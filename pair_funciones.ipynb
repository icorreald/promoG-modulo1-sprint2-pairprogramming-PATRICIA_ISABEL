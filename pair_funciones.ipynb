{
    "cells": [
     {
      "cell_type": "code",
      "execution_count": 4,
      "metadata": {},
      "outputs": [
       {
        "data": {
         "text/plain": [
          "28.2744"
         ]
        },
        "execution_count": 4,
        "metadata": {},
        "output_type": "execute_result"
       }
      ],
      "source": [
       "#1 \n",
       "def calcular_area_circulo(radio): \n",
       "        int(radio)\n",
       "        pi = 3.1416\n",
       "        return pi * (radio ** 2)\n",
       "\n",
       "calcular_area_circulo(3)\n",
       "\n",
       "\n"
      ]
     },
     {
      "cell_type": "code",
      "execution_count": 8,
      "metadata": {},
      "outputs": [
       {
        "data": {
         "text/plain": [
          "12"
         ]
        },
        "execution_count": 8,
        "metadata": {},
        "output_type": "execute_result"
       }
      ],
      "source": [
       "# 2 contactar caracteres string \n",
       "\n",
       "def contar_caracteres(string):\n",
       "    str(string)\n",
       "    return len(string)\n",
       "\n",
       "frase = \"hola que tal\"\n",
       "\n",
       "contar_caracteres(frase)"
      ]
     },
     {
      "cell_type": "code",
      "execution_count": 31,
      "metadata": {},
      "outputs": [
       {
        "data": {
         "text/plain": [
          "False"
         ]
        },
        "execution_count": 31,
        "metadata": {},
        "output_type": "execute_result"
       }
      ],
      "source": [
       "# 3 cadena si es palindromo \n",
       "\n",
       "def es_palindromo(string):\n",
       "    str(string)\n",
       "    l = list(string)\n",
       "    l.reverse()\n",
       "    if l == list(string): \n",
       "        return True\n",
       "    else: \n",
       "        return False \n",
       "\n",
       "palabra = \"gato\" \n",
       "#palabra[::-1]\n",
       "es_palindromo(palabra)"
      ]
     },
     {
      "cell_type": "code",
      "execution_count": 38,
      "metadata": {},
      "outputs": [
       {
        "data": {
         "text/plain": [
          "128781.17"
         ]
        },
        "execution_count": 38,
        "metadata": {},
        "output_type": "execute_result"
       }
      ],
      "source": [
       "# 4 calcular prom lista\n",
       "\n",
       "def calcular_promedio(lista):\n",
       "    return round((sum(lista) / len(lista)), 2)\n",
       "\n",
       "ejemplo_lista = [1,2,3,4,5,772672]\n",
       "calcular_promedio(ejemplo_lista)"
      ]
     },
     {
      "cell_type": "code",
      "execution_count": 48,
      "metadata": {},
      "outputs": [
       {
        "data": {
         "text/plain": [
          "3458764513820540928000"
         ]
        },
        "execution_count": 48,
        "metadata": {},
        "output_type": "execute_result"
       }
      ],
      "source": [
       "# 5 calcular interes compuesto \n",
       "#cf = ci * ((1+i) **n)\n",
       "\n",
       "def calcular_interes_compuesto(ci, i, n):\n",
       "    i = i/100\n",
       "    cf = (ci * ((1 + 1)** n))\n",
       "    return cf\n",
       "\n",
       "calcular_interes_compuesto(3000, 4, 60)\n",
       "\n",
       "\n"
      ]
     },
     {
      "cell_type": "code",
      "execution_count": 65,
      "metadata": {},
      "outputs": [
       {
        "ename": "SyntaxError",
        "evalue": "unexpected EOF while parsing (3192956985.py, line 10)",
        "output_type": "error",
        "traceback": [
         "\u001b[0;36m  File \u001b[0;32m\"/var/folders/z0/ptwngvg97wndky1th_f_rz8r0000gp/T/ipykernel_14188/3192956985.py\"\u001b[0;36m, line \u001b[0;32m10\u001b[0m\n\u001b[0;31m    \u001b[0m\n\u001b[0m    ^\u001b[0m\n\u001b[0;31mSyntaxError\u001b[0m\u001b[0;31m:\u001b[0m unexpected EOF while parsing\n"
        ]
       }
      ],
      "source": [
       "# 6 hacer un anagrama\n",
       "palabra1 = \"ana\"\n",
       "palabra2 = \"gato\"\n",
       "\n",
       "def es_anagrama(palabra1, palabra2):\n",
       "pal1 = palabra1.split().sort()\n",
       "pal2 = palabra2.split().sort()\n",
       "print(pal1)\n",
       "print(pal2\n",
       "    \n"
      ]
     },
     {
      "cell_type": "code",
      "execution_count": 72,
      "metadata": {},
      "outputs": [
       {
        "data": {
         "text/plain": [
          "False"
         ]
        },
        "execution_count": 72,
        "metadata": {},
        "output_type": "execute_result"
       }
      ],
      "source": [
       "# 7 isograma\n",
       "def es_isograma(palabra):\n",
       "    str(palabra)\n",
       "    set1 = set(palabra) \n",
       "    palabra2 = str(set1)\n",
       "    if palabra == palabra2:\n",
       "        return True\n",
       "    else: \n",
       "        return False\n",
       "\n",
       "palabra1 = \"gato\"\n",
       "es_isograma(palabra1)\n"
      ]
     },
     {
      "cell_type": "code",
      "execution_count": 75,
      "metadata": {},
      "outputs": [
       {
        "name": "stdout",
        "output_type": "stream",
        "text": [
         "gato\n",
         "{'g', 'o', 'a', 't'}\n"
        ]
       }
      ],
      "source": [
       "palabra = \"gato\"\n",
       "str(palabra)\n",
       "set1 = set(palabra) \n",
       "palabra2 = str(set1)\n",
       "\n",
       "print(palabra)\n",
       "print(palabra2)\n",
       "\n",
       "#igual len en vez de elementos "
      ]
     },
     {
      "cell_type": "code",
      "execution_count": null,
      "metadata": {},
      "outputs": [],
      "source": []
     }
    ],
    "metadata": {
     "kernelspec": {
      "display_name": "base",
      "language": "python",
      "name": "python3"
     },
     "language_info": {
      "codemirror_mode": {
       "name": "ipython",
       "version": 3
      },
      "file_extension": ".py",
      "mimetype": "text/x-python",
      "name": "python",
      "nbconvert_exporter": "python",
      "pygments_lexer": "ipython3",
      "version": "3.9.7"
     }
    },
    "nbformat": 4,
    "nbformat_minor": 2
   }
   