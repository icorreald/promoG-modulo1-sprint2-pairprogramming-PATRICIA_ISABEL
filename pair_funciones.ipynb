{
 "cells": [
  {
   "cell_type": "markdown",
   "metadata": {},
   "source": [
    "# Pair programming Funciones"
   ]
  },
  {
   "cell_type": "markdown",
   "metadata": {},
   "source": [
    "1. Calcular el área de un círculo.\n",
    "Descripción: Crea una función llamada calcular_area_circulo que tome el radio como parámetro y devuelva el área del círculo."
   ]
  },
  {
   "cell_type": "code",
   "execution_count": 1,
   "metadata": {},
   "outputs": [
    {
     "data": {
      "text/plain": [
       "28.2744"
      ]
     },
     "execution_count": 1,
     "metadata": {},
     "output_type": "execute_result"
    }
   ],
   "source": [
    "def calcular_area_circulo(radio): \n",
    "        int(radio)\n",
    "        pi = 3.1416\n",
    "        return pi * (radio ** 2)\n",
    "\n",
    "calcular_area_circulo(3)"
   ]
  },
  {
   "cell_type": "markdown",
   "metadata": {},
   "source": [
    "2. Contar la cantidad de caracteres en una cadena."
   ]
  },
  {
   "cell_type": "code",
   "execution_count": 8,
   "metadata": {},
   "outputs": [
    {
     "data": {
      "text/plain": [
       "12"
      ]
     },
     "execution_count": 8,
     "metadata": {},
     "output_type": "execute_result"
    }
   ],
   "source": [
    "def contar_caracteres(string):\n",
    "    str(string)\n",
    "    return len(string)\n",
    "\n",
    "frase = \"hola que tal\"\n",
    "\n",
    "contar_caracteres(frase)"
   ]
  },
  {
   "cell_type": "markdown",
   "metadata": {},
   "source": [
    "3. Determinar si una cadena es un palíndromo.\n",
    "Descripción: Crea una función llamada calcular_promedio que tome una lista de números como parámetro y devuelva el promedio de todos sus elementos."
   ]
  },
  {
   "cell_type": "code",
   "execution_count": 31,
   "metadata": {},
   "outputs": [
    {
     "data": {
      "text/plain": [
       "False"
      ]
     },
     "execution_count": 31,
     "metadata": {},
     "output_type": "execute_result"
    }
   ],
   "source": [
    "def es_palindromo(string):\n",
    "    str(string)\n",
    "    l = list(string)\n",
    "    l.reverse()\n",
    "    if l == list(string): \n",
    "        return True\n",
    "    else: \n",
    "        return False \n",
    "\n",
    "palabra = \"gato\" \n",
    "#palabra[::-1]\n",
    "es_palindromo(palabra)"
   ]
  },
  {
   "cell_type": "markdown",
   "metadata": {},
   "source": [
    "4. Calcular el promedio de una lista de números.\n",
    "Descripción: Crea una función llamada calcular_promedio que tome una lista de números como parámetro y devuelva el promedio de todos sus elementos.\n"
   ]
  },
  {
   "cell_type": "code",
   "execution_count": 38,
   "metadata": {},
   "outputs": [
    {
     "data": {
      "text/plain": [
       "128781.17"
      ]
     },
     "execution_count": 38,
     "metadata": {},
     "output_type": "execute_result"
    }
   ],
   "source": [
    "def calcular_promedio(lista):\n",
    "    return round((sum(lista) / len(lista)), 2)\n",
    "\n",
    "ejemplo_lista = [1,2,3,4,5,772672]\n",
    "calcular_promedio(ejemplo_lista)"
   ]
  },
  {
   "cell_type": "markdown",
   "metadata": {},
   "source": [
    "5. Calcular el interés compuesto.\n",
    "Descripción: Crea una función llamada calcular_interes_compuesto que tome el capital inicial, la tasa de interés y el número de períodos como parámetros y devuelva el beneficio final después del interés compuesto."
   ]
  },
  {
   "cell_type": "code",
   "execution_count": 45,
   "metadata": {},
   "outputs": [
    {
     "name": "stdout",
     "output_type": "stream",
     "text": [
      "El interés compuesto es 2035.48 euros.\n"
     ]
    }
   ],
   "source": [
    "#cf = ci * ((1+i) **n)\n",
    "\n",
    "def calcular_interes_compuesto(ci, i, n):\n",
    "    i = (i/100)\n",
    "    cf = ci * (1+i)** n\n",
    "    i_compuesto = round((cf - ci),2)\n",
    "    \n",
    "    print(f\"El interés compuesto es {i_compuesto} euros.\")\n",
    "\n",
    "calcular_interes_compuesto(5500, 6.5, 5)\n",
    "\n",
    "\n",
    "\n"
   ]
  },
  {
   "cell_type": "code",
   "execution_count": null,
   "metadata": {},
   "outputs": [],
   "source": [
    "# ISA: POSIBLE RESOLUCIÓN\n",
    "\n",
    "cap_inic = 5000\n",
    "t_int = 5\n",
    "n = 12\n",
    "periodo = 10\n",
    "\n",
    "def interes_compuesto(cap_inic, t_int, periodo):\n",
    "    t_int = t_int/100\n",
    "    int_comp = cap_inic * ((1 + t_int / 12) ** (12 * periodo)) - cap_inic\n",
    "    return round(int_comp, 2)\n",
    "\n",
    "interes_compuesto(5000, 5, 10)"
   ]
  },
  {
   "cell_type": "markdown",
   "metadata": {},
   "source": [
    "6. Validar si una palabra es un anagrama de otra.\n",
    "Descripción: Crea una función llamada es_anagrama que tome dos palabras como parámetros y devuelva True si una es un anagrama de la otra, o False si no lo es."
   ]
  },
  {
   "cell_type": "code",
   "execution_count": 83,
   "metadata": {},
   "outputs": [
    {
     "name": "stdout",
     "output_type": "stream",
     "text": [
      "No es un anagrama\n",
      "........\n",
      "Es un anagrama\n"
     ]
    }
   ],
   "source": [
    "# 6 hacer un anagrama\n",
    "\n",
    "def es_anagrama(palabra1, palabra2):\n",
    "    pal1 = list(palabra1)\n",
    "    pal2 = list(palabra2)\n",
    "    pal1.sort()\n",
    "    pal2.sort()\n",
    "    if pal1 == pal2:\n",
    "        print(\"Es un anagrama\")\n",
    "    else: \n",
    "        print(\"No es un anagrama\")\n",
    "\n",
    "es_anagrama(\"gato\", \"seto\")\n",
    "print(\"........\")\n",
    "es_anagrama(\"seto\", \"esto\")\n",
    "\n"
   ]
  },
  {
   "cell_type": "markdown",
   "metadata": {},
   "source": [
    "7. Validar si una cadena de texto es un isograma.\n",
    "Descripción: Crea una función llamada es_isograma que tome una cadena de texto como parámetro y devuelva True si es un isograma. En caso contrario, devuelve False."
   ]
  },
  {
   "cell_type": "code",
   "execution_count": 88,
   "metadata": {},
   "outputs": [
    {
     "name": "stdout",
     "output_type": "stream",
     "text": [
      "...........\n"
     ]
    },
    {
     "data": {
      "text/plain": [
       "'Es un isograma'"
      ]
     },
     "execution_count": 88,
     "metadata": {},
     "output_type": "execute_result"
    }
   ],
   "source": [
    "def es_isograma(string):\n",
    "    set_string = set(string)\n",
    "    if len(set_string) == len(string):\n",
    "        return 'Es un isograma'\n",
    "    else:\n",
    "        return 'No es un isograma'\n",
    "\n",
    "es_isograma(\"casa\")\n",
    "print(\"...........\")\n",
    "es_isograma(\"murcielago\")"
   ]
  },
  {
   "cell_type": "markdown",
   "metadata": {},
   "source": [
    "8. Concatenar múltiples cadenas de texto\n",
    "Descripción: Crea una función llamada concatenar_cadenas que tome una cantidad variable de cadenas de texto como argumentos y devuelva una única cadena que contenga la concatenación de todas las cadenas ingresadas."
   ]
  },
  {
   "cell_type": "code",
   "execution_count": 89,
   "metadata": {},
   "outputs": [
    {
     "data": {
      "text/plain": [
       "'hola buenos días'"
      ]
     },
     "execution_count": 89,
     "metadata": {},
     "output_type": "execute_result"
    }
   ],
   "source": [
    "# ISA: POSIBLE RESOLUCIÓN\n",
    "def concatenar_cadenas(*strings):\n",
    "    todos = ''\n",
    "    for string in strings:\n",
    "        todos += (string + ' ')\n",
    "    return todos.strip()\n",
    "\n",
    "concatenar_cadenas(\"hola\", \"buenos\", \"días\")"
   ]
  },
  {
   "cell_type": "markdown",
   "metadata": {},
   "source": [
    "9. Crear un diccionario con información de una persona.\n",
    "Descripción: Crea una función llamada crear_persona que tome como argumentos clave-valor los datos de una persona, como nombre, edad, ciudad, etc., y devuelva un diccionario con toda la información ingresada.\n"
   ]
  },
  {
   "cell_type": "code",
   "execution_count": 115,
   "metadata": {},
   "outputs": [
    {
     "data": {
      "text/plain": [
       "{'nombre': 'Patri', 'edad': 27, 'ciudad': 'A Coruña'}"
      ]
     },
     "execution_count": 115,
     "metadata": {},
     "output_type": "execute_result"
    }
   ],
   "source": [
    "def crear_persona(nombre, edad, ciudad):\n",
    "    datos_persona = {\"nombre\": nombre , \"edad\": edad , \"ciudad\": ciudad}\n",
    "    return datos_persona\n",
    "\n",
    "crear_persona(\"Patri\", 27, \"A Coruña\")\n",
    "\n"
   ]
  },
  {
   "cell_type": "markdown",
   "metadata": {},
   "source": [
    "10. Encontrar el número que falta en una lista ordenada de números consecutivos.\n",
    "Descripción: Crea una función llamada encontrar_numero_faltante que tome una lista de números consecutivos (del 1 al N, sin repetir) con un número faltante y devuelva ese número faltante."
   ]
  },
  {
   "cell_type": "code",
   "execution_count": 121,
   "metadata": {},
   "outputs": [
    {
     "name": "stdout",
     "output_type": "stream",
     "text": [
      "El número 16 no está en la lista de números\n"
     ]
    }
   ],
   "source": [
    "def encontrar_numero_faltante(lista):\n",
    "    numero_alto = max(lista)\n",
    "    lista_buscar = list(range(lista[0],numero_alto))\n",
    "    for numero in lista_buscar: \n",
    "        if numero in lista:\n",
    "            continue\n",
    "        else:\n",
    "            print(f\"El número {numero} no está en la lista de números\")\n",
    "\n",
    "\n",
    "encontrar_numero_faltante([11, 12, 13, 14, 15, 17, 18])"
   ]
  }
 ],
 "metadata": {
  "kernelspec": {
   "display_name": "base",
   "language": "python",
   "name": "python3"
  },
  "language_info": {
   "codemirror_mode": {
    "name": "ipython",
    "version": 3
   },
   "file_extension": ".py",
   "mimetype": "text/x-python",
   "name": "python",
   "nbconvert_exporter": "python",
   "pygments_lexer": "ipython3",
   "version": "3.9.7"
  }
 },
 "nbformat": 4,
 "nbformat_minor": 2
}
