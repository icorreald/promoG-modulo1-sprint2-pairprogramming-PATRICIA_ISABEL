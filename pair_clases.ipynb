{
 "cells": [
  {
   "cell_type": "markdown",
   "metadata": {},
   "source": [
    "# Pair programming Clases\n",
    "\n",
    "En este ejercicio de pair programming, vamos a crear una clase para gestionar la información de los empleados de nuestra empresa. Siguiendo las indicaciones del jefe, necesitamos organizar los datos de cada empleado de manera más estructurada."
   ]
  },
  {
   "cell_type": "code",
   "execution_count": 17,
   "metadata": {},
   "outputs": [],
   "source": [
    "import datetime\n",
    "from datetime import date\n",
    "from datetime import datetime\n",
    "\n",
    "class Empleadas:\n",
    "    def __init__ (self, nombre, apellidos, edad, posicion, año, vacaciones, herramientas):\n",
    "        self.nombre = nombre\n",
    "        self.apellidos = apellidos\n",
    "        self.edad = edad\n",
    "        self.posicion = posicion\n",
    "        self.año = año\n",
    "        self.vacaciones = vacaciones\n",
    "        self.herramientas = herramientas\n",
    "        self.nombrecompleto = nombre + apellidos \n",
    "    \n",
    "    \n",
    "    def descripcion(self):\n",
    "        return f'El empleado {self.nombrecompleto}, que se unió a la empresa en {self.año} y cuyo puesto es {self.posicion}, dispone de {self.vacaciones} días de vacaciones.'\n",
    "   \n",
    "    \n",
    "    def cambiando_posicion(self):\n",
    "        for i in self.herramientas:\n",
    "            if i.lower() == 'python':\n",
    "                return f'¡Muy bien hecho!'\n",
    "            else:\n",
    "                return f'Sugerimos utilizar Python'\n",
    "    \n",
    "    \n",
    " \n",
    "    def calcular_antiguedad(self, mes_inicio):\n",
    "        hoy = datetime.now()\n",
    "        años = int(hoy.strftime('%Y')) - self.año\n",
    "\n",
    "        if int(hoy.strftime(\"%m\")) > mes_inicio:\n",
    "            años = int(hoy.strftime('%Y')) - self.año\n",
    "            meses = int(hoy.strftime(\"%m\")) - mes_inicio\n",
    "\n",
    "        else:\n",
    "            años = int(hoy.strftime('%Y')) - self.año - 1\n",
    "            meses = mes_inicio - int(hoy.strftime(\"%m\"))\n",
    "\n",
    "        return f'El empleado lleva trabajados {años} años y {meses} meses'\n",
    "    \n",
    "    \n",
    "    def solicitar_aumento_vacacions(self, dias_solicitados):\n",
    "        if dias_solicitados > 0:\n",
    "            self.vacaciones += dias_solicitados\n",
    "            return f'Su número de días de vacaciones es ahora: {self.vacaciones}'\n",
    "        else:\n",
    "            return f'Su solicitud no ha sido admitida. Por favor, introduzca un número válido de días'\n",
    "    \n",
    "    \n",
    "    def registrar_herramienta(self, herramientas, nueva_herramienta):\n",
    "        if nueva_herramienta in herramientas:\n",
    "            return f\"La herramienta {nueva_herramienta} ya está registrada en tu perfil\"\n",
    "        else: \n",
    "            herramientas.append(nueva_herramienta)\n",
    "            return f\" La herramient {nueva_herramienta} se ha añadido a tu perfil. Tus herramientas registradas son {herramientas}\"\n",
    "    \n",
    "    \n",
    "    def cambiar_posicion(self, nueva_posicion, nuevo_salario):\n",
    "        self.posicion = nueva_posicion\n",
    "        self.salario = nuevo_salario\n",
    "        return f\"{self.nombre} {self.apellidos} tu posición y salario han sido actalizados en tu perfil. Ahora eres {self.posicion} y tu salario es de {self.salario} euros.\"  \n",
    "    \n",
    "    \n",
    "    def tomar_vacaciones(self, vacaciones):\n",
    "        solicitud = int(input(\"Indica cuántos días de vacaciones quieres solicitar:\"))\n",
    "        \n",
    "        if solicitud > 0 and solicitud <= vacaciones: \n",
    "            vacaciones -= int(vacaciones) - solicitud\n",
    "            return f\"Se han concedido {solicitud} días de vacacioens. Te restan {vacaciones} días de vacaciones.\"\n",
    "        \n",
    "        if solicitud < vacaciones or solicitud > vacaciones: \n",
    "            return f\"Por favor, revisa los datos de tu solicitud.\"\n",
    "    \n",
    "    \n",
    "    def solicitar_aumento_salario(self, salario, aumento):\n",
    "\n",
    "        self.salario = salario \n",
    "        \n",
    "        try:\n",
    "            aumento = float(input(\"Indica el porcentaje para tu subida salaria:\")) / 100\n",
    "            \n",
    "            while aumento <= 0:\n",
    "                return f'Error. Porcentaje no válido'\n",
    "            \n",
    "            self.salario = self.salario + aumento * self.salario\n",
    "\n",
    "        except ValueError:\n",
    "            return f'Por favor, ingrese un valor válido'\n",
    "       \n",
    "\n",
    "    \n",
    "    def realizar_evaluacion(self):\n",
    "        calificaciones = (\"excelente\", \"bueno\", \"regular\", \"malo\")\n",
    "        calificacion = input(\"Estamos realizando una validación de desempeño. Por favor, indica una de las siguientes opciones: excelente, bueno, regular, malo\") \n",
    "        while calificacion in calificaciones:    \n",
    "            print(f\"Tu calificacion ha sido {calificacion}\") "
   ]
  },
  {
   "cell_type": "code",
   "execution_count": 18,
   "metadata": {},
   "outputs": [],
   "source": [
    "h_maria = ['python', 'excel', 'paquete office', 'C++', 'javascript']\n",
    "\n",
    "maria = Empleadas('maria', 'gomez', 35, 'jefa de departamento', 2019, 30, h_maria)"
   ]
  },
  {
   "cell_type": "code",
   "execution_count": 19,
   "metadata": {},
   "outputs": [
    {
     "data": {
      "text/plain": [
       "'El empleado lleva trabajados 4 años y 4 meses'"
      ]
     },
     "execution_count": 19,
     "metadata": {},
     "output_type": "execute_result"
    }
   ],
   "source": [
    "maria.calcular_antiguedad(6)"
   ]
  },
  {
   "cell_type": "markdown",
   "metadata": {},
   "source": [
    "En este ejercicio, se te pide crear una herencia de la clase creada en el ejercicio anterior. Esta clase hija se llama \"Gerente\" que hereda de la clase creada en el ejercicio anterior. Las instrucciones para crear esta clase son:"
   ]
  },
  {
   "cell_type": "code",
   "execution_count": 2,
   "metadata": {},
   "outputs": [],
   "source": [
    "class Gerente(Empleadas):\n",
    "    def __init__(self, departamento, empleados_a_cargo):\n",
    "        self.departamento = departamento\n",
    "        self.empelados_a_cargo = empleados_a_cargo\n",
    "        super().__init__(nombre, apellidos, edad, posicion, año, vacaciones, herramientas)\n",
    "\n",
    "    def asignar_tareas(self, tarea, empleado):\n",
    "        self.terea = tarea \n",
    "        self.empleados = empleado\n",
    "        f\" El gerente {self.nombre} asigna la tarea: {tarea} a {empleado}.\" \n",
    "\n",
    "    def revisar_desempeno_empleado(empleado):\n",
    "        f\" El gerente {self.nombre} está revisnado el desempeño del empleado: {empleado}.\" \n",
    "        \n",
    "    def gestionar_empleados( sefl, accion, empleado):\n",
    "        if accion not in (\"contratar\", \"despedir\"):\n",
    "            return f\"Error. La acción solicitada no es válida.\"\n",
    "        if accion == \"contratar\":\n",
    "            self.empleados_a_cargo.append(empleado)\n",
    "            return f\"{self.nombre} ha contratado al empleado {empleado}.\"\n",
    "        if accion ==  \"despedir\" and \"empleado\" in self.empleados_a_cargo: \n",
    "            self.empleados_a_cargo.pop(empleado)\n",
    "            return f\"Se ha despedido al empleado {empleado}\"\n",
    "\n",
    "\n",
    "        \n",
    "    \n",
    "    \n",
    "\n"
   ]
  }
 ],
 "metadata": {
  "kernelspec": {
   "display_name": "base",
   "language": "python",
   "name": "python3"
  },
  "language_info": {
   "codemirror_mode": {
    "name": "ipython",
    "version": 3
   },
   "file_extension": ".py",
   "mimetype": "text/x-python",
   "name": "python",
   "nbconvert_exporter": "python",
   "pygments_lexer": "ipython3",
   "version": "3.9.7"
  }
 },
 "nbformat": 4,
 "nbformat_minor": 2
}
