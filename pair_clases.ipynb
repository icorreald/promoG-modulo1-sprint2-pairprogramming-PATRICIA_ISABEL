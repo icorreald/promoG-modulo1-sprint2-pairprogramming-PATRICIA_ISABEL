{
 "cells": [
  {
   "cell_type": "code",
   "execution_count": 3,
   "metadata": {},
   "outputs": [],
   "source": [
    "class Empleadas:\n",
    "    def __init__ (self, nombre, apellidos, edad, posicion, año, vacaciones, herramientas):\n",
    "        self.nombre = nombre\n",
    "        self.apellidos = apellidos\n",
    "        self.edad = edad\n",
    "        self.posicion = posicion\n",
    "        self.año = año\n",
    "        self.vacaciones = vacaciones\n",
    "        self.herramientas = herramientas\n",
    "    def descripcion(self):\n",
    "        return f'El empleado {self.nombre} {self.apellidos}, que se unió a la empresa en {self.año} y cuyo puesto es {self.posicion}, dispone de {self.vacaciones} días de vacaciones.'\n",
    "    def cambiando_posicion(self):\n",
    "        for i in self.herramientas: # no entendemos muy bien para qué hace falta iterar aquí, con if / else se podría hacer también\n",
    "            if i.lower() == 'python':\n",
    "                return f'¡Muy bien hecho!'\n",
    "            else:\n",
    "                return f'Sugerimos utilizar Python'\n",
    "    def calcular_antiguedad(self, mes_inicio):\n",
    "        fecha_inicial = datetime.date(self.año, mes_inicio)\n",
    "        antiguedad = datetime.date.today() - fecha_inicial\n",
    "        return antiguedad\n",
    "    def solicitar_aumento_vacacions(self, dias_solicitados):\n",
    "        if dias_solicitados > 0:\n",
    "            self.vacaciones += dias_solicitados\n",
    "            return f'Su número de días de vacaciones es ahora: {self.vacaciones}'\n",
    "            \n",
    "        else:\n",
    "            return f'Su solicitud no ha sido admitida. Por favor, introduzca un número válido de días'\n",
    "    def tomar_vacaciones(self, vacaciones):\n",
    "    #se restan las v solicitadas a las vacaciones \n",
    "        \n",
    "\n",
    "        \n"
   ]
  },
  {
   "cell_type": "code",
   "execution_count": null,
   "metadata": {},
   "outputs": [],
   "source": []
  }
 ],
 "metadata": {
  "kernelspec": {
   "display_name": "base",
   "language": "python",
   "name": "python3"
  },
  "language_info": {
   "codemirror_mode": {
    "name": "ipython",
    "version": 3
   },
   "file_extension": ".py",
   "mimetype": "text/x-python",
   "name": "python",
   "nbconvert_exporter": "python",
   "pygments_lexer": "ipython3",
   "version": "3.9.7"
  }
 },
 "nbformat": 4,
 "nbformat_minor": 2
}
