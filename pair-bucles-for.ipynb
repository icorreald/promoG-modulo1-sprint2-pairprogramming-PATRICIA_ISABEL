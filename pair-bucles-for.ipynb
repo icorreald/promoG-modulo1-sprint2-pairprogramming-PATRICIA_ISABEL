{
 "cells": [
  {
   "cell_type": "markdown",
   "metadata": {},
   "source": [
    "# Pair programming Sentencias de Control"
   ]
  },
  {
   "cell_type": "markdown",
   "metadata": {},
   "source": [
    "## Ejercicios bucles for"
   ]
  },
  {
   "cell_type": "markdown",
   "metadata": {},
   "source": [
    "1. Imprimir los números del 1 al 5 utilizando un bucle for\n",
    "Descripción: Utiliza un bucle for para imprimir los números del 1 al 5 (incluido) en orden ascendente."
   ]
  },
  {
   "cell_type": "code",
   "execution_count": 3,
   "metadata": {},
   "outputs": [
    {
     "name": "stdout",
     "output_type": "stream",
     "text": [
      "1\n",
      "2\n",
      "3\n",
      "4\n",
      "5\n"
     ]
    }
   ],
   "source": [
    "for i in range(1, 6):\n",
    "    print(i)"
   ]
  },
  {
   "cell_type": "markdown",
   "metadata": {},
   "source": [
    "2. Calcular la suma de los primeros 10 números naturales utilizando un bucle for\n",
    "Descripción: Utiliza un bucle for para calcular la suma de los primeros 10 números naturales (1 + 2 + 3 + ... + 10)."
   ]
  },
  {
   "cell_type": "code",
   "execution_count": 8,
   "metadata": {},
   "outputs": [
    {
     "name": "stdout",
     "output_type": "stream",
     "text": [
      "55\n"
     ]
    }
   ],
   "source": [
    "num = []\n",
    "\n",
    "for i in range(1,11):\n",
    "    num.append(i)\n",
    "    \n",
    "num = sum(num)\n",
    "print(num)\n"
   ]
  },
  {
   "cell_type": "markdown",
   "metadata": {},
   "source": [
    "3. Calcular el producto de los elementos de una lista\n",
    "Descripción: Dada una lista de números, utiliza un bucle for para calcular el producto de todos los elementos."
   ]
  },
  {
   "cell_type": "code",
   "execution_count": 5,
   "metadata": {},
   "outputs": [
    {
     "name": "stdout",
     "output_type": "stream",
     "text": [
      "1\n",
      " \n",
      "6\n",
      " \n",
      "24\n",
      " \n",
      "168\n",
      " \n",
      "168\n"
     ]
    }
   ],
   "source": [
    "lista = [1, 6, 4, 7]\n",
    "producto = 1\n",
    "\n",
    "for i in lista:\n",
    "        producto *= i\n",
    "        print(producto)\n",
    "        \n",
    "print(' ')\n",
    "print(producto)"
   ]
  },
  {
   "cell_type": "markdown",
   "metadata": {},
   "source": [
    "4. Calcular el producto de los elementos de una lista\n",
    "Descripción: Dada una lista de números, utiliza un bucle for para calcular el producto de todos los elementos."
   ]
  },
  {
   "cell_type": "code",
   "execution_count": null,
   "metadata": {},
   "outputs": [],
   "source": [
    "num = 5\n",
    "factorial = 1\n",
    "\n",
    "for i in range(1, num + 1):\n",
    "    factorial = factorial * i\n",
    "    print(factorial)"
   ]
  },
  {
   "cell_type": "markdown",
   "metadata": {},
   "source": [
    "4. Imprimir los caracteres de una cadena de texto\n",
    "Descripción: Dada una cadena de texto, utiliza un bucle for para imprimir cada carácter en una línea separada."
   ]
  },
  {
   "cell_type": "code",
   "execution_count": 9,
   "metadata": {},
   "outputs": [
    {
     "name": "stdout",
     "output_type": "stream",
     "text": [
      "s\n",
      "k\n",
      "d\n",
      "l\n",
      "j\n",
      "h\n",
      "f\n",
      "s\n",
      "l\n",
      "k\n",
      "j\n",
      "d\n",
      "h\n",
      "f\n",
      "k\n",
      "l\n",
      "j\n",
      "s\n",
      "d\n",
      "h\n",
      "f\n",
      "d\n",
      "s\n"
     ]
    }
   ],
   "source": [
    "string = 'skdljhfslkjdhfkljsdhfds'\n",
    "\n",
    "for i in string:\n",
    "    print(i)"
   ]
  },
  {
   "cell_type": "markdown",
   "metadata": {},
   "source": [
    "5. Imprimir los números pares del 1 al 100 utilizando un bucle for\n",
    "Descripción: Utiliza un bucle for para imprimir los números pares del 1 al 100 en orden ascendente"
   ]
  },
  {
   "cell_type": "code",
   "execution_count": 12,
   "metadata": {},
   "outputs": [
    {
     "name": "stdout",
     "output_type": "stream",
     "text": [
      "2\n",
      "4\n",
      "6\n",
      "8\n",
      "10\n",
      "12\n",
      "14\n",
      "16\n",
      "18\n",
      "20\n",
      "22\n",
      "24\n",
      "26\n",
      "28\n",
      "30\n",
      "32\n",
      "34\n",
      "36\n",
      "38\n",
      "40\n",
      "42\n",
      "44\n",
      "46\n",
      "48\n",
      "50\n",
      "52\n",
      "54\n",
      "56\n",
      "58\n",
      "60\n",
      "62\n",
      "64\n",
      "66\n",
      "68\n",
      "70\n",
      "72\n",
      "74\n",
      "76\n",
      "78\n",
      "80\n",
      "82\n",
      "84\n",
      "86\n",
      "88\n",
      "90\n",
      "92\n",
      "94\n",
      "96\n",
      "98\n",
      "100\n"
     ]
    }
   ],
   "source": [
    "for i in range(1, 101):\n",
    "    if i % 2 == 0:\n",
    "        print(i)"
   ]
  },
  {
   "cell_type": "markdown",
   "metadata": {},
   "source": [
    "6. Imprimir los números primos del 1 al 50 utilizando un bucle for\n",
    "Descripción: Utiliza un bucle for para imprimir los números primos del 1 al 50 en orden ascendente."
   ]
  },
  {
   "cell_type": "code",
   "execution_count": 1,
   "metadata": {},
   "outputs": [
    {
     "name": "stdout",
     "output_type": "stream",
     "text": [
      "1\n",
      "2\n",
      "3\n",
      "5\n",
      "7\n",
      "11\n",
      "13\n",
      "17\n",
      "19\n",
      "23\n",
      "29\n",
      "31\n",
      "37\n",
      "41\n",
      "43\n",
      "47\n"
     ]
    }
   ],
   "source": [
    "for num in range(1,51):\n",
    "    es_primo = True\n",
    "    for divisor in range(2,num):\n",
    "        if num % divisor == 0:\n",
    "            es_primo = False\n",
    "    if es_primo:\n",
    "        print(num)"
   ]
  },
  {
   "cell_type": "markdown",
   "metadata": {},
   "source": [
    "7. Calcular el factorial de un número utilizando un bucle for"
   ]
  },
  {
   "cell_type": "code",
   "execution_count": 25,
   "metadata": {},
   "outputs": [
    {
     "name": "stdout",
     "output_type": "stream",
     "text": [
      "1\n",
      "2\n",
      "6\n",
      "24\n",
      "120\n",
      "120\n"
     ]
    }
   ],
   "source": [
    "num = 5\n",
    "factorial = 1\n",
    "\n",
    "for i in range(1, num + 1):\n",
    "    factorial = factorial * i\n",
    "    print(factorial)\n",
    "\n",
    "print(factorial)\n",
    "\n",
    "# !5 = 5 * 4 * 3 * 2 * 1 = 120"
   ]
  },
  {
   "cell_type": "markdown",
   "metadata": {},
   "source": [
    "8. Juego de adivinar palabras utilizando un bucle for\n",
    "Descripción: Crea un juego en el que el jugador debe adivinar una palabra secreta. El jugador tiene un número limitado de intentos y se le proporcionan pistas después de cada intento. Utiliza un bucle for para controlar los intentos del jugador."
   ]
  },
  {
   "cell_type": "code",
   "execution_count": 1,
   "metadata": {},
   "outputs": [],
   "source": [
    "import random"
   ]
  },
  {
   "cell_type": "code",
   "execution_count": 11,
   "metadata": {},
   "outputs": [
    {
     "name": "stdout",
     "output_type": "stream",
     "text": [
      "Prueba otra vez! Pista: La palabra tiene 5 letras\n",
      "Prueba otra vez! Pista: La palabra tiene 5 letras\n",
      "Prueba otra vez! Pista: Tu palabra acaba en o\n",
      "Ohhh no te quedan intentos\n"
     ]
    }
   ],
   "source": [
    "palabras = [\"casa\", \"perro\", \"azul\", \"comer\", \"correr\"]\n",
    "palabra = random.choice(palabras)\n",
    "pistas = [f'La palabra tiene {len(palabra)} letras',\n",
    "          f'Tu palabra acaba en {palabra[-1]}']\n",
    "intento = 3\n",
    "\n",
    "for pal in palabras:\n",
    "    if intento < 1:\n",
    "        print('Ohhh no te quedan intentos')\n",
    "        break\n",
    "    \n",
    "    elif palabra == input('Di una palabra'):\n",
    "        print('olee')\n",
    "        break\n",
    "\n",
    "       \n",
    "    else: \n",
    "        print(f'Prueba otra vez! Pista: {random.choice(pistas)}')\n",
    "        intento -= 1\n",
    "        continue\n"
   ]
  },
  {
   "cell_type": "markdown",
   "metadata": {},
   "source": [
    "## Ejercicios list comprehension"
   ]
  },
  {
   "cell_type": "markdown",
   "metadata": {},
   "source": [
    "1. Generar una lista de los números pares del 1 al 20.\n",
    "Descripción: Utiliza list comprehension para generar una lista que contenga todos los números pares en el rango del 1 al 20."
   ]
  },
  {
   "cell_type": "code",
   "execution_count": 9,
   "metadata": {},
   "outputs": [
    {
     "name": "stdout",
     "output_type": "stream",
     "text": [
      "[2, 4, 6, 8, 10, 12, 14, 16, 18, 20]\n"
     ]
    }
   ],
   "source": [
    "# lista numeros pares del 1 al 20\n",
    "\n",
    "numeros = range(1, 21)\n",
    "\n",
    "pares = [i for i in numeros if i % 2 == 0]\n",
    "print(pares)\n"
   ]
  },
  {
   "cell_type": "markdown",
   "metadata": {},
   "source": [
    "2. Obtener una lista de las vocales en una cadena de texto.\n",
    "Descripción: Utiliza list comprehension para crear una lista que contenga todas las vocales presentes en una cadena de texto (sin repetición)."
   ]
  },
  {
   "cell_type": "code",
   "execution_count": 11,
   "metadata": {},
   "outputs": [
    {
     "name": "stdout",
     "output_type": "stream",
     "text": [
      "['o', 'i', 'a', 'e']\n"
     ]
    }
   ],
   "source": [
    "# lista de vocales en cadena de texto\n",
    "\n",
    "vocales = ['a', 'e', 'i', 'o', 'u']\n",
    "cadena = 'Ejercicio de list comprehension para clase'\n",
    "\n",
    "l_vocales = list(set([i for i in cadena if i in vocales]))\n",
    "\n",
    "print(l_vocales)"
   ]
  },
  {
   "cell_type": "markdown",
   "metadata": {},
   "source": [
    "3. Filtrar los números positivos de una lista y calcular su cuadrado.\n",
    "Descripción: Utiliza list comprehension para filtrar los números positivos de una lista y calcular el cuadrado de cada uno."
   ]
  },
  {
   "cell_type": "code",
   "execution_count": 12,
   "metadata": {},
   "outputs": [
    {
     "data": {
      "text/plain": [
       "[1,\n",
       " 4,\n",
       " 9,\n",
       " 16,\n",
       " 25,\n",
       " 36,\n",
       " 49,\n",
       " 64,\n",
       " 81,\n",
       " 100,\n",
       " 121,\n",
       " 144,\n",
       " 169,\n",
       " 196,\n",
       " 225,\n",
       " 256,\n",
       " 289,\n",
       " 324,\n",
       " 361,\n",
       " 400,\n",
       " 441,\n",
       " 484]"
      ]
     },
     "execution_count": 12,
     "metadata": {},
     "output_type": "execute_result"
    }
   ],
   "source": [
    "# filtrar números positivos y calcular cuadrado\n",
    "\n",
    "num = range(-30, 23)\n",
    "\n",
    "positivos = [i ** 2 for i in num if i > 0]\n",
    "\n",
    "positivos\n"
   ]
  },
  {
   "cell_type": "markdown",
   "metadata": {},
   "source": [
    "## Ejercicios try ... except"
   ]
  },
  {
   "cell_type": "markdown",
   "metadata": {},
   "source": [
    "1. Realizar una búsqueda en una lista y capturar una excepción en caso de valor no encontrado.\n",
    "Descripción: Solicita al usuario una lista de nombres y un nombre para buscar en la lista. Intenta encontrar el nombre en la lista y utiliza las sentencias try y except para capturar la excepción en caso de que el nombre no sea encontrado."
   ]
  },
  {
   "cell_type": "code",
   "execution_count": 36,
   "metadata": {},
   "outputs": [
    {
     "name": "stdout",
     "output_type": "stream",
     "text": [
      "ana figura en la lista\n",
      "['ana', 'carmen', 'patricia', 'isabel', 'carla']\n"
     ]
    }
   ],
   "source": [
    "l_nombres = input('Indica seis nombres separados por comas').lower().split(', ')\n",
    "nombre = input('Indica un nombre').lower()\n",
    "\n",
    "try:\n",
    "    indice = l_nombres.index(nombre)\n",
    "    print(f'{nombre} figura en la lista')\n",
    "                \n",
    "\n",
    "except:\n",
    "    print(f'{nombre} no figura en la lista')\n",
    "    \n",
    "\n",
    "print(l_nombres)           "
   ]
  }
 ],
 "metadata": {
  "kernelspec": {
   "display_name": "base",
   "language": "python",
   "name": "python3"
  },
  "language_info": {
   "codemirror_mode": {
    "name": "ipython",
    "version": 3
   },
   "file_extension": ".py",
   "mimetype": "text/x-python",
   "name": "python",
   "nbconvert_exporter": "python",
   "pygments_lexer": "ipython3",
   "version": "3.9.7"
  }
 },
 "nbformat": 4,
 "nbformat_minor": 2
}
