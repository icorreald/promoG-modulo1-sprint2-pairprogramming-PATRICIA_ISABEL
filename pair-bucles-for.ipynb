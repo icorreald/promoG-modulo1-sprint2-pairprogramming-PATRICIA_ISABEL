{
 "cells": [
  {
   "cell_type": "markdown",
   "metadata": {},
   "source": [
    "1. imprimir numeros del 1 al 5 con bucle for"
   ]
  },
  {
   "cell_type": "code",
   "execution_count": 3,
   "metadata": {},
   "outputs": [
    {
     "name": "stdout",
     "output_type": "stream",
     "text": [
      "1\n",
      "2\n",
      "3\n",
      "4\n",
      "5\n"
     ]
    }
   ],
   "source": [
    "for i in range(1, 6):\n",
    "    print(i)"
   ]
  },
  {
   "cell_type": "markdown",
   "metadata": {},
   "source": [
    "2. calcula la suma de los primeros 10 numeros naturales con un bucle for"
   ]
  },
  {
   "cell_type": "code",
   "execution_count": 8,
   "metadata": {},
   "outputs": [
    {
     "name": "stdout",
     "output_type": "stream",
     "text": [
      "55\n"
     ]
    }
   ],
   "source": [
    "num = []\n",
    "\n",
    "for i in range(1,11):\n",
    "    num.append(i)\n",
    "    \n",
    "num = sum(num)\n",
    "print(num)\n"
   ]
  },
  {
   "cell_type": "markdown",
   "metadata": {},
   "source": [
    "3."
   ]
  },
  {
   "cell_type": "code",
   "execution_count": 5,
   "metadata": {},
   "outputs": [
    {
     "name": "stdout",
     "output_type": "stream",
     "text": [
      "1\n",
      " \n",
      "6\n",
      " \n",
      "24\n",
      " \n",
      "168\n",
      " \n",
      "168\n"
     ]
    }
   ],
   "source": [
    "lista = [1, 6, 4, 7]\n",
    "producto = 1\n",
    "\n",
    "for i in lista:\n",
    "        producto *= i\n",
    "        print(producto)\n",
    "        \n",
    "print(' ')\n",
    "print(producto)"
   ]
  },
  {
   "cell_type": "code",
   "execution_count": null,
   "metadata": {},
   "outputs": [],
   "source": [
    "num = 5\n",
    "factorial = 1\n",
    "\n",
    "for i in range(1, num + 1):\n",
    "    factorial = factorial * i\n",
    "    print(factorial)"
   ]
  },
  {
   "cell_type": "markdown",
   "metadata": {},
   "source": [
    "4."
   ]
  },
  {
   "cell_type": "code",
   "execution_count": 9,
   "metadata": {},
   "outputs": [
    {
     "name": "stdout",
     "output_type": "stream",
     "text": [
      "s\n",
      "k\n",
      "d\n",
      "l\n",
      "j\n",
      "h\n",
      "f\n",
      "s\n",
      "l\n",
      "k\n",
      "j\n",
      "d\n",
      "h\n",
      "f\n",
      "k\n",
      "l\n",
      "j\n",
      "s\n",
      "d\n",
      "h\n",
      "f\n",
      "d\n",
      "s\n"
     ]
    }
   ],
   "source": [
    "string = 'skdljhfslkjdhfkljsdhfds'\n",
    "\n",
    "for i in string:\n",
    "    print(i)"
   ]
  },
  {
   "cell_type": "markdown",
   "metadata": {},
   "source": [
    "5."
   ]
  },
  {
   "cell_type": "code",
   "execution_count": 12,
   "metadata": {},
   "outputs": [
    {
     "name": "stdout",
     "output_type": "stream",
     "text": [
      "2\n",
      "4\n",
      "6\n",
      "8\n",
      "10\n",
      "12\n",
      "14\n",
      "16\n",
      "18\n",
      "20\n",
      "22\n",
      "24\n",
      "26\n",
      "28\n",
      "30\n",
      "32\n",
      "34\n",
      "36\n",
      "38\n",
      "40\n",
      "42\n",
      "44\n",
      "46\n",
      "48\n",
      "50\n",
      "52\n",
      "54\n",
      "56\n",
      "58\n",
      "60\n",
      "62\n",
      "64\n",
      "66\n",
      "68\n",
      "70\n",
      "72\n",
      "74\n",
      "76\n",
      "78\n",
      "80\n",
      "82\n",
      "84\n",
      "86\n",
      "88\n",
      "90\n",
      "92\n",
      "94\n",
      "96\n",
      "98\n",
      "100\n"
     ]
    }
   ],
   "source": [
    "for i in range(1, 101):\n",
    "    if i % 2 == 0:\n",
    "        print(i)"
   ]
  },
  {
   "cell_type": "markdown",
   "metadata": {},
   "source": [
    "6."
   ]
  },
  {
   "cell_type": "code",
   "execution_count": 2,
   "metadata": {},
   "outputs": [
    {
     "ename": "SyntaxError",
     "evalue": "invalid syntax (3142065384.py, line 2)",
     "output_type": "error",
     "traceback": [
      "\u001b[0;36m  File \u001b[0;32m\"/tmp/ipykernel_337/3142065384.py\"\u001b[0;36m, line \u001b[0;32m2\u001b[0m\n\u001b[0;31m    if def is_prime(num):\u001b[0m\n\u001b[0m       ^\u001b[0m\n\u001b[0;31mSyntaxError\u001b[0m\u001b[0;31m:\u001b[0m invalid syntax\n"
     ]
    }
   ],
   "source": [
    "for num in range(1,51):\n",
    "    def is_prime(num):\n",
    "                print(num)\n",
    "\n",
    "    else:\n",
    "        continue\n",
    "        "
   ]
  },
  {
   "cell_type": "markdown",
   "metadata": {},
   "source": [
    "7."
   ]
  },
  {
   "cell_type": "code",
   "execution_count": 25,
   "metadata": {},
   "outputs": [
    {
     "name": "stdout",
     "output_type": "stream",
     "text": [
      "1\n",
      "2\n",
      "6\n",
      "24\n",
      "120\n",
      "120\n"
     ]
    }
   ],
   "source": [
    "num = 5\n",
    "factorial = 1\n",
    "\n",
    "for i in range(1, num + 1):\n",
    "    factorial = factorial * i\n",
    "    print(factorial)\n",
    "\n",
    "print(factorial)\n",
    "\n",
    "# !5 = 5 * 4 * 3 * 2 * 1 = 120"
   ]
  },
  {
   "cell_type": "markdown",
   "metadata": {},
   "source": [
    "8."
   ]
  },
  {
   "cell_type": "code",
   "execution_count": 1,
   "metadata": {},
   "outputs": [],
   "source": [
    "import random"
   ]
  },
  {
   "cell_type": "code",
   "execution_count": 11,
   "metadata": {},
   "outputs": [
    {
     "name": "stdout",
     "output_type": "stream",
     "text": [
      "Prueba otra vez! Pista: La palabra tiene 5 letras\n",
      "Prueba otra vez! Pista: La palabra tiene 5 letras\n",
      "Prueba otra vez! Pista: Tu palabra acaba en o\n",
      "Ohhh no te quedan intentos\n"
     ]
    }
   ],
   "source": [
    "palabras = [\"casa\", \"perro\", \"azul\", \"comer\", \"correr\"]\n",
    "palabra = random.choice(palabras)\n",
    "pistas = [f'La palabra tiene {len(palabra)} letras',\n",
    "          f'Tu palabra acaba en {palabra[-1]}']\n",
    "intento = 3\n",
    "\n",
    "for pal in palabras:\n",
    "    if intento < 1:\n",
    "        print('Ohhh no te quedan intentos')\n",
    "        break\n",
    "    \n",
    "    elif palabra == input('Di una palabra'):\n",
    "        print('olee')\n",
    "        break\n",
    "\n",
    "       \n",
    "    else: \n",
    "        print(f'Prueba otra vez! Pista: {random.choice(pistas)}')\n",
    "        intento -= 1\n",
    "        continue\n"
   ]
  },
  {
   "cell_type": "markdown",
   "metadata": {},
   "source": [
    "# list comprehension"
   ]
  },
  {
   "cell_type": "markdown",
   "metadata": {},
   "source": [
    "1."
   ]
  },
  {
   "cell_type": "code",
   "execution_count": 9,
   "metadata": {},
   "outputs": [
    {
     "name": "stdout",
     "output_type": "stream",
     "text": [
      "[2, 4, 6, 8, 10, 12, 14, 16, 18, 20]\n"
     ]
    }
   ],
   "source": [
    "# lista numeros pares del 1 al 20\n",
    "\n",
    "numeros = range(1, 21)\n",
    "\n",
    "pares = [i for i in numeros if i % 2 == 0]\n",
    "print(pares)\n"
   ]
  },
  {
   "cell_type": "markdown",
   "metadata": {},
   "source": [
    "2."
   ]
  },
  {
   "cell_type": "code",
   "execution_count": 11,
   "metadata": {},
   "outputs": [
    {
     "name": "stdout",
     "output_type": "stream",
     "text": [
      "['o', 'i', 'a', 'e']\n"
     ]
    }
   ],
   "source": [
    "# lista de vocales en cadena de texto\n",
    "\n",
    "vocales = ['a', 'e', 'i', 'o', 'u']\n",
    "cadena = 'Ejercicio de list comprehension para clase'\n",
    "\n",
    "l_vocales = list(set([i for i in cadena if i in vocales]))\n",
    "\n",
    "print(l_vocales)"
   ]
  },
  {
   "cell_type": "markdown",
   "metadata": {},
   "source": [
    "3."
   ]
  },
  {
   "cell_type": "code",
   "execution_count": 12,
   "metadata": {},
   "outputs": [
    {
     "data": {
      "text/plain": [
       "[1,\n",
       " 4,\n",
       " 9,\n",
       " 16,\n",
       " 25,\n",
       " 36,\n",
       " 49,\n",
       " 64,\n",
       " 81,\n",
       " 100,\n",
       " 121,\n",
       " 144,\n",
       " 169,\n",
       " 196,\n",
       " 225,\n",
       " 256,\n",
       " 289,\n",
       " 324,\n",
       " 361,\n",
       " 400,\n",
       " 441,\n",
       " 484]"
      ]
     },
     "execution_count": 12,
     "metadata": {},
     "output_type": "execute_result"
    }
   ],
   "source": [
    "# filtrar números positivos y calcular cuadrado\n",
    "\n",
    "num = range(-30, 23)\n",
    "\n",
    "positivos = [i ** 2 for i in num if i > 0]\n",
    "\n",
    "positivos\n"
   ]
  },
  {
   "cell_type": "markdown",
   "metadata": {},
   "source": [
    "# try ... except"
   ]
  },
  {
   "cell_type": "markdown",
   "metadata": {},
   "source": [
    "1."
   ]
  },
  {
   "cell_type": "code",
   "execution_count": 36,
   "metadata": {},
   "outputs": [
    {
     "name": "stdout",
     "output_type": "stream",
     "text": [
      "ana figura en la lista\n",
      "['ana', 'carmen', 'patricia', 'isabel', 'carla']\n"
     ]
    }
   ],
   "source": [
    "l_nombres = input('Indica seis nombres separados por comas').lower().split(', ')\n",
    "nombre = input('Indica un nombre').lower()\n",
    "\n",
    "try:\n",
    "    indice = l_nombres.index(nombre)\n",
    "    print(f'{nombre} figura en la lista')\n",
    "                \n",
    "\n",
    "except:\n",
    "    print(f'{nombre} no figura en la lista')\n",
    "    \n",
    "\n",
    "print(l_nombres)           "
   ]
  }
 ],
 "metadata": {
  "kernelspec": {
   "display_name": "base",
   "language": "python",
   "name": "python3"
  },
  "language_info": {
   "codemirror_mode": {
    "name": "ipython",
    "version": 3
   },
   "file_extension": ".py",
   "mimetype": "text/x-python",
   "name": "python",
   "nbconvert_exporter": "python",
   "pygments_lexer": "ipython3",
   "version": "3.9.7"
  }
 },
 "nbformat": 4,
 "nbformat_minor": 2
}
